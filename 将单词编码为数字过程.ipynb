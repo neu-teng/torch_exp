{
 "cells": [
  {
   "cell_type": "markdown",
   "metadata": {},
   "source": [
    "### 将文本编码为数字的过程"
   ]
  },
  {
   "cell_type": "markdown",
   "metadata": {},
   "source": [
    "####  导入相关的库"
   ]
  },
  {
   "cell_type": "code",
   "execution_count": 1,
   "metadata": {
    "collapsed": true
   },
   "outputs": [],
   "source": [
    "from collections import Counter\n",
    "from string import punctuation"
   ]
  },
  {
   "cell_type": "markdown",
   "metadata": {},
   "source": [
    "####  将单词去除特殊字符并且切割好"
   ]
  },
  {
   "cell_type": "code",
   "execution_count": 5,
   "metadata": {},
   "outputs": [
    {
     "name": "stdout",
     "output_type": "stream",
     "text": [
      "['story', 'of', 'a', 'man', 'who', 'has', 'unnatural', 'feelings', 'for', 'a']\n"
     ]
    }
   ],
   "source": [
    "text = 'story of a man who has unnatural feelings for a pig . starts out with a opening scene that is a terrific example of absurd comedy . a formal orchestra audience is turned into an insane  violent mob by the crazy chantings of it  s singers . unfortunately it stays absurd the whole time with no general narrative eventually making it just too off putting . even those from the era should be turned off . the cryptic dialogue would make shakespeare seem easy to a third grader . on a technical level it  s better than you might think with some good cinematography by future great vilmos zsigmond . future stars sally kirkland and frederic forrest can be seen briefly .  '\n",
    "text = ''.join([c for c in text if c not in punctuation])\n",
    "words = text.split()\n",
    "print(words[:10])"
   ]
  },
  {
   "cell_type": "markdown",
   "metadata": {},
   "source": [
    "####  将单词编码为数字"
   ]
  },
  {
   "cell_type": "markdown",
   "metadata": {},
   "source": [
    "####  大致步骤\n",
    "\n",
    "先采用counter进行计数 \n",
    "\n",
    "设置一个列表对计数的字典中的键进行排序 \n",
    "\n",
    "新的字典对上述的列表进行遍历，采用enumerate(word,1)函数对列表进行编号"
   ]
  },
  {
   "cell_type": "code",
   "execution_count": 6,
   "metadata": {
    "collapsed": true
   },
   "outputs": [],
   "source": [
    "word_count = Counter(words)\n",
    "vocab = sorted(word_count , key = word_count.get , reverse= True)\n",
    "vocab_to_int = {word:li for li,word in enumerate(vocab,1)}"
   ]
  },
  {
   "cell_type": "code",
   "execution_count": 7,
   "metadata": {},
   "outputs": [
    {
     "name": "stdout",
     "output_type": "stream",
     "text": [
      "{'a': 1, 'the': 2, 'it': 3, 'of': 4, 'with': 5, 'is': 6, 'absurd': 7, 'turned': 8, 'by': 9, 's': 10, 'off': 11, 'be': 12, 'future': 13, 'story': 14, 'man': 15, 'who': 16, 'has': 17, 'unnatural': 18, 'feelings': 19, 'for': 20, 'pig': 21, 'starts': 22, 'out': 23, 'opening': 24, 'scene': 25, 'that': 26, 'terrific': 27, 'example': 28, 'comedy': 29, 'formal': 30, 'orchestra': 31, 'audience': 32, 'into': 33, 'an': 34, 'insane': 35, 'violent': 36, 'mob': 37, 'crazy': 38, 'chantings': 39, 'singers': 40, 'unfortunately': 41, 'stays': 42, 'whole': 43, 'time': 44, 'no': 45, 'general': 46, 'narrative': 47, 'eventually': 48, 'making': 49, 'just': 50, 'too': 51, 'putting': 52, 'even': 53, 'those': 54, 'from': 55, 'era': 56, 'should': 57, 'cryptic': 58, 'dialogue': 59, 'would': 60, 'make': 61, 'shakespeare': 62, 'seem': 63, 'easy': 64, 'to': 65, 'third': 66, 'grader': 67, 'on': 68, 'technical': 69, 'level': 70, 'better': 71, 'than': 72, 'you': 73, 'might': 74, 'think': 75, 'some': 76, 'good': 77, 'cinematography': 78, 'great': 79, 'vilmos': 80, 'zsigmond': 81, 'stars': 82, 'sally': 83, 'kirkland': 84, 'and': 85, 'frederic': 86, 'forrest': 87, 'can': 88, 'seen': 89, 'briefly': 90}\n"
     ]
    }
   ],
   "source": [
    "print(vocab_to_int)"
   ]
  }
 ],
 "metadata": {
  "kernelspec": {
   "display_name": "Python 3",
   "language": "python",
   "name": "python3"
  },
  "language_info": {
   "codemirror_mode": {
    "name": "ipython",
    "version": 3
   },
   "file_extension": ".py",
   "mimetype": "text/x-python",
   "name": "python",
   "nbconvert_exporter": "python",
   "pygments_lexer": "ipython3",
   "version": "3.6.2"
  }
 },
 "nbformat": 4,
 "nbformat_minor": 2
}
